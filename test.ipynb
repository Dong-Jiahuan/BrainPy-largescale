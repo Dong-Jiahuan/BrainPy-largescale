{
 "cells": [
  {
   "cell_type": "code",
   "execution_count": null,
   "metadata": {},
   "outputs": [],
   "source": [
    "import brainpy.respa as respa\n",
    "import brainpy as bp\n",
    "a = respa.LIF(3200,V_rest=-60., V_th=-50., V_reset=-60., tau=20., tau_ref=5., method='exp_auto', V_initializer=bp.initialize.Normal(-55., 2.))\n",
    "b = respa.LIF(800,V_rest=-60., V_th=-50., V_reset=-60., tau=20., tau_ref=5., method='exp_auto', V_initializer=bp.initialize.Normal(-55., 2.))\n",
    "c = respa.Exponential(a, b, bp.conn.FixedProb(0.02), g_max=10,tau=5., output=bp.synouts.COBA(E=0.), method='exp_auto')\n",
    "\n",
    "net = respa.Network()\n",
    "net.build()\n",
    "runner = respa.DSRunner(\n",
    "    net,\n",
    "    monitors={'spikes': b.spike},\n",
    "    inputs=[(a.input, 20.)]\n",
    ")\n",
    "runner.run(100.)\n",
    "print(net.lowref.nodes())\n",
    "bp.visualize.raster_plot(runner.mon.ts, runner.mon['spikes'], show=True)\n",
    "\n"
   ]
  },
  {
   "cell_type": "code",
   "execution_count": null,
   "metadata": {},
   "outputs": [],
   "source": [
    "print(net.lowref.nodes())\n",
    "runner.run(100.)\n",
    "bp.visualize.raster_plot(runner.mon.ts, runner.mon['spikes'], show=True)"
   ]
  }
 ],
 "metadata": {
  "kernelspec": {
   "display_name": "Python 3.9.7 ('base')",
   "language": "python",
   "name": "python3"
  },
  "language_info": {
   "codemirror_mode": {
    "name": "ipython",
    "version": 3
   },
   "file_extension": ".py",
   "mimetype": "text/x-python",
   "name": "python",
   "nbconvert_exporter": "python",
   "pygments_lexer": "ipython3",
   "version": "3.9.7"
  },
  "orig_nbformat": 4,
  "vscode": {
   "interpreter": {
    "hash": "08d23fa5f426e3cac3d452d649c8af7e8e0cfeeecb0333911b5f2b6d13f711fa"
   }
  }
 },
 "nbformat": 4,
 "nbformat_minor": 2
}
