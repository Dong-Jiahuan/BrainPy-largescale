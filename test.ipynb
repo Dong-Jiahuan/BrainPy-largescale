{
 "cells": [
  {
   "cell_type": "code",
   "execution_count": null,
   "metadata": {},
   "outputs": [],
   "source": [
    "import brainpy.respa as respa\n",
    "import brainpy as bp\n",
    "a = respa.LIF(3200,V_rest=-60., V_th=-50., V_reset=-60., tau=20., tau_ref=5., method='exp_auto', V_initializer=bp.initialize.Normal(-55., 2.))\n",
    "b = respa.LIF(800,V_rest=-60., V_th=-50., V_reset=-60., tau=20., tau_ref=5., method='exp_auto', V_initializer=bp.initialize.Normal(-55., 2.))\n",
    "c = respa.Exponential(a, b, bp.conn.FixedProb(0.02), g_max=10,tau=5., output=bp.synouts.COBA(E=0.), method='exp_auto')\n",
    "class MyNetwork(respa.Network):\n",
    "  def __init__(self, *ds_tuple):\n",
    "    super(MyNetwork, self).__init__(ds_tuple)\n",
    "    self.a = respa.LIF(1000,V_rest=-60., V_th=-50., V_reset=-60., tau=20., tau_ref=5., method='exp_auto', V_initializer=bp.initialize.Normal(-55., 2.))\n",
    "    self.b = respa.LIF(800,V_rest=-60., V_th=-50., V_reset=-60., tau=20., tau_ref=5., method='exp_auto', V_initializer=bp.initialize.Normal(-55., 2.))\n",
    "    self.c = respa.Exponential(ds_tuple[0], self.a, bp.conn.FixedProb(0.02), g_max=10,tau=5., output=bp.synouts.COBA(E=0.), method='exp_auto')\n",
    "    self.d = respa.Exponential(self.a[100:], self.b, bp.conn.FixedProb(0.02), g_max=10,tau=5., output=bp.synouts.COBA(E=0.), method='exp_auto')\n",
    "net = MyNetwork(a)\n",
    "net.build()\n",
    "runner = respa.DSRunner(\n",
    "    net,\n",
    "    monitors={'spikes': net.b.spike},\n",
    "    inputs=[(a.input, 20.)]\n",
    ")\n",
    "runner.run(100.)\n",
    "\n",
    "bp.visualize.raster_plot(runner.mon.ts, runner.mon['spikes'], show=True)\n",
    "print(net.pops_)\n",
    "print(net.pops_split)\n",
    "print(net.syns_)\n",
    "# print(net.nodes())"
   ]
  },
  {
   "cell_type": "code",
   "execution_count": null,
   "metadata": {},
   "outputs": [],
   "source": [
    "print(net.nodes())\n",
    "runner.run(100.)\n",
    "bp.visualize.raster_plot(runner.mon.ts, runner.mon['spikes'], show=True)"
   ]
  }
 ],
 "metadata": {
  "kernelspec": {
   "display_name": "Python 3.9.7 ('base')",
   "language": "python",
   "name": "python3"
  },
  "language_info": {
   "codemirror_mode": {
    "name": "ipython",
    "version": 3
   },
   "file_extension": ".py",
   "mimetype": "text/x-python",
   "name": "python",
   "nbconvert_exporter": "python",
   "pygments_lexer": "ipython3",
   "version": "3.9.7"
  },
  "orig_nbformat": 4,
  "vscode": {
   "interpreter": {
    "hash": "08d23fa5f426e3cac3d452d649c8af7e8e0cfeeecb0333911b5f2b6d13f711fa"
   }
  }
 },
 "nbformat": 4,
 "nbformat_minor": 2
}
